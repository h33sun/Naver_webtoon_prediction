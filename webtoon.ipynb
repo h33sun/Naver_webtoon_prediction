{
 "cells": [
  {
   "cell_type": "code",
   "execution_count": 57,
   "metadata": {},
   "outputs": [],
   "source": [
    "import numpy as np\n",
    "import pandas as pd\n",
    "import requests\n",
    "import re\n",
    "import time\n",
    "import pickle\n",
    "\n",
    "from bs4 import BeautifulSoup as bs\n"
   ]
  },
  {
   "cell_type": "code",
   "execution_count": 5,
   "metadata": {},
   "outputs": [],
   "source": [
    "#네이버 도전웹툰 1~1000page의 모든 웹툰 제목(title), 링크(link), 평점(star)를 수집\n",
    "def get_challenge_webtoon(page):\n",
    "    url = 'https://comic.naver.com/genre/challenge.nhn?m=list&page={}'.format(page)\n",
    "    response = requests.get(url)\n",
    "    webtoons = bs(response.content, 'html.parser')\n",
    "    \n",
    "    domain = 'https://comic.naver.com'\n",
    "    for webtoon in webtoons.select('.challengeInfo'):\n",
    "        table.append({\n",
    "            \n",
    "            'title' : webtoon.select('a')[0].text.strip(),\n",
    "            'link' : domain + webtoon.select('a')[0].get('href'),\n",
    "            'star' : webtoon.select_one('.star').get('title')\n",
    "        \n",
    "        })\n",
    "\n",
    "#link를 받아 에피소드의 개수를 체크함 (첫번째 url = 마지막 에피소드 url에 회차정보가 담겨 있음)       \n",
    "def check_num_episode(title_link):\n",
    "    response = requests.get(title_link)\n",
    "    info = bs(response.content, 'html.parser').select_one('.title > a').get('href')\n",
    "    return info[-4:]"
   ]
  },
  {
   "cell_type": "code",
   "execution_count": 9,
   "metadata": {},
   "outputs": [
    {
     "data": {
      "text/html": [
       "<div>\n",
       "<style scoped>\n",
       "    .dataframe tbody tr th:only-of-type {\n",
       "        vertical-align: middle;\n",
       "    }\n",
       "\n",
       "    .dataframe tbody tr th {\n",
       "        vertical-align: top;\n",
       "    }\n",
       "\n",
       "    .dataframe thead th {\n",
       "        text-align: right;\n",
       "    }\n",
       "</style>\n",
       "<table border=\"1\" class=\"dataframe\">\n",
       "  <thead>\n",
       "    <tr style=\"text-align: right;\">\n",
       "      <th></th>\n",
       "      <th>link</th>\n",
       "      <th>star</th>\n",
       "      <th>title</th>\n",
       "    </tr>\n",
       "  </thead>\n",
       "  <tbody>\n",
       "    <tr>\n",
       "      <th>91</th>\n",
       "      <td>https://comic.naver.com/challenge/list.nhn?tit...</td>\n",
       "      <td>7.75</td>\n",
       "      <td>엄마는 오늘도</td>\n",
       "    </tr>\n",
       "    <tr>\n",
       "      <th>92</th>\n",
       "      <td>https://comic.naver.com/challenge/list.nhn?tit...</td>\n",
       "      <td>9.14</td>\n",
       "      <td>지박스쿨</td>\n",
       "    </tr>\n",
       "    <tr>\n",
       "      <th>93</th>\n",
       "      <td>https://comic.naver.com/challenge/list.nhn?tit...</td>\n",
       "      <td>9.00</td>\n",
       "      <td>웃는 방범</td>\n",
       "    </tr>\n",
       "    <tr>\n",
       "      <th>94</th>\n",
       "      <td>https://comic.naver.com/challenge/list.nhn?tit...</td>\n",
       "      <td>10.00</td>\n",
       "      <td>넷웍마의 추억</td>\n",
       "    </tr>\n",
       "    <tr>\n",
       "      <th>95</th>\n",
       "      <td>https://comic.naver.com/challenge/list.nhn?tit...</td>\n",
       "      <td>10.00</td>\n",
       "      <td>그땐-그랬지</td>\n",
       "    </tr>\n",
       "  </tbody>\n",
       "</table>\n",
       "</div>"
      ],
      "text/plain": [
       "                                                 link   star    title\n",
       "91  https://comic.naver.com/challenge/list.nhn?tit...   7.75  엄마는 오늘도\n",
       "92  https://comic.naver.com/challenge/list.nhn?tit...   9.14     지박스쿨\n",
       "93  https://comic.naver.com/challenge/list.nhn?tit...   9.00    웃는 방범\n",
       "94  https://comic.naver.com/challenge/list.nhn?tit...  10.00  넷웍마의 추억\n",
       "95  https://comic.naver.com/challenge/list.nhn?tit...  10.00   그땐-그랬지"
      ]
     },
     "execution_count": 9,
     "metadata": {},
     "output_type": "execute_result"
    }
   ],
   "source": [
    "table = []\n",
    "for page in range(1,5):\n",
    "    get_challenge_webtoon(page)\n",
    "\n",
    "result = pd.DataFrame(table)\n",
    "result.star = result.star.apply(lambda x: float(x.replace('점','')))\n",
    "result['title_id'] = result.link.apply(lambda x:x[-6:])\n",
    "result.tail()"
   ]
  },
  {
   "cell_type": "code",
   "execution_count": 11,
   "metadata": {},
   "outputs": [
    {
     "name": "stdout",
     "output_type": "stream",
     "text": [
      "0/96\n",
      "1/96\n",
      "2/96\n",
      "3/96\n",
      "4/96\n",
      "5/96\n",
      "6/96\n",
      "7/96\n",
      "8/96\n",
      "9/96\n",
      "10/96\n",
      "11/96\n",
      "12/96\n",
      "13/96\n",
      "14/96\n",
      "15/96\n",
      "16/96\n",
      "17/96\n",
      "18/96\n",
      "19/96\n",
      "20/96\n",
      "21/96\n",
      "22/96\n",
      "23/96\n",
      "24/96\n",
      "25/96\n",
      "26/96\n",
      "27/96\n",
      "28/96\n",
      "29/96\n",
      "30/96\n",
      "31/96\n",
      "32/96\n",
      "33/96\n",
      "34/96\n",
      "35/96\n",
      "36/96\n",
      "37/96\n",
      "38/96\n",
      "39/96\n",
      "40/96\n",
      "41/96\n",
      "42/96\n",
      "43/96\n",
      "44/96\n",
      "45/96\n",
      "46/96\n",
      "47/96\n",
      "48/96\n",
      "49/96\n",
      "50/96\n",
      "51/96\n",
      "52/96\n",
      "53/96\n",
      "54/96\n",
      "55/96\n",
      "56/96\n",
      "57/96\n",
      "58/96\n",
      "59/96\n",
      "60/96\n",
      "61/96\n",
      "62/96\n",
      "63/96\n",
      "64/96\n",
      "65/96\n",
      "66/96\n",
      "67/96\n",
      "68/96\n",
      "69/96\n",
      "70/96\n",
      "71/96\n",
      "72/96\n",
      "73/96\n",
      "74/96\n",
      "75/96\n",
      "76/96\n",
      "77/96\n",
      "78/96\n",
      "79/96\n",
      "80/96\n",
      "81/96\n",
      "82/96\n",
      "83/96\n",
      "84/96\n",
      "85/96\n",
      "86/96\n",
      "87/96\n",
      "88/96\n",
      "89/96\n",
      "90/96\n",
      "91/96\n",
      "92/96\n",
      "93/96\n",
      "94/96\n",
      "95/96\n"
     ]
    }
   ],
   "source": [
    "num = []\n",
    "links = result.link\n",
    "\n",
    "for i in range(len(links)):\n",
    "    try:\n",
    "        num.append(check_num_episode(links[i]))\n",
    "    except AttributeError:\n",
    "        num.append('Error')\n",
    "    \n",
    "    print(str(i+1) +'/{}'.format(len(links)))\n",
    "\n",
    "result['num_episode'] = num\n",
    "result['num_episode'] = result.num_episode.apply(lambda x: re.sub('[a-z=]','',x))"
   ]
  },
  {
   "cell_type": "code",
   "execution_count": 55,
   "metadata": {},
   "outputs": [
    {
     "data": {
      "text/plain": [
       "'98'"
      ]
     },
     "execution_count": 55,
     "metadata": {},
     "output_type": "execute_result"
    }
   ],
   "source": [
    "result.num_episode.max()"
   ]
  },
  {
   "cell_type": "code",
   "execution_count": 89,
   "metadata": {},
   "outputs": [],
   "source": [
    "url = 'https://comic.naver.com/genre/challenge.nhn?m=list&page=1'\n",
    "domain = 'https://comic.naver.com'\n",
    "response = requests.get(url)\n",
    "webtoons = bs(response.content, 'html.parser')"
   ]
  },
  {
   "cell_type": "code",
   "execution_count": 90,
   "metadata": {},
   "outputs": [],
   "source": [
    "malsook = webtoons.select('.challengeInfo')[0]"
   ]
  },
  {
   "cell_type": "code",
   "execution_count": 91,
   "metadata": {},
   "outputs": [],
   "source": [
    "title_link = domain + malsook.select('a')[0].get('href')"
   ]
  },
  {
   "cell_type": "code",
   "execution_count": 92,
   "metadata": {},
   "outputs": [],
   "source": [
    "response = requests.get(title_link)\n",
    "html = bs(response.content, 'html.parser')"
   ]
  },
  {
   "cell_type": "code",
   "execution_count": 93,
   "metadata": {},
   "outputs": [
    {
     "data": {
      "text/plain": [
       "'/challenge/detail.nhn?titleId=742474&no=1'"
      ]
     },
     "execution_count": 93,
     "metadata": {},
     "output_type": "execute_result"
    }
   ],
   "source": [
    "html.select('td.title')[0].select_one('a').get('href')"
   ]
  },
  {
   "cell_type": "code",
   "execution_count": 95,
   "metadata": {},
   "outputs": [
    {
     "data": {
      "text/plain": [
       "<div class=\"challengeInfo\">\n",
       "<h6 class=\"challengeTitle\">\n",
       "<a href=\"/challenge/list.nhn?titleId=742474\" onclick=\"nclk_v2(event,'acl.tit','','1')\">\n",
       "                                    뽑기 수호자\n",
       "                                </a>\n",
       "</h6>\n",
       "<a class=\"user\" href=\"#\" onclick=\"nclk_v2(event,'acl.writer','','1'); return artistAction.viewArtist('742474', this);\">\n",
       "                                kbj_0403\n",
       "                            </a>\n",
       "<div class=\"summary\">군대 판타지 만화!</div>\n",
       "<div class=\"rating_type\">\n",
       "<span class=\"star\" title=\"0.00점\"><em style=\"width:0.00%\">평점</em></span>\n",
       "<strong>0.00</strong>\n",
       "</div>\n",
       "</div>"
      ]
     },
     "execution_count": 95,
     "metadata": {},
     "output_type": "execute_result"
    }
   ],
   "source": [
    "malsook"
   ]
  }
 ],
 "metadata": {
  "kernelspec": {
   "display_name": "Python [conda env:tensorflow]",
   "language": "python",
   "name": "conda-env-tensorflow-py"
  },
  "language_info": {
   "codemirror_mode": {
    "name": "ipython",
    "version": 3
   },
   "file_extension": ".py",
   "mimetype": "text/x-python",
   "name": "python",
   "nbconvert_exporter": "python",
   "pygments_lexer": "ipython3",
   "version": "3.5.5"
  }
 },
 "nbformat": 4,
 "nbformat_minor": 2
}
